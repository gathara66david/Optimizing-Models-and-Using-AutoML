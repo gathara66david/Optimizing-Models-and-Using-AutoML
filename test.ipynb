{
 "cells": [
  {
   "cell_type": "code",
   "execution_count": null,
   "metadata": {},
   "outputs": [],
   "source": [
    "\"\"\" Use the full housing dataset from this book's GitHub repository (under\n",
    " Chapter13/data/housing_data_full.csv ), then use PyCaret and/or another\n",
    " AutoML package to find the best ML model for the data. It may help to first\n",
    " use recursive feature selection to trim down the number of features if it\n",
    " takes too long to run (or sample down the data). Once the optimum model\n",
    " has been found, plot the learning curve of the model to see if we have\n",
    " enough data or should ideally collect more. You should see similar results to\n",
    " what we've seen in this chapter, although if you use the full dataset, you\n",
    " may see the learning curve has flattened out.\"\"\""
   ]
  }
 ],
 "metadata": {
  "language_info": {
   "name": "python"
  }
 },
 "nbformat": 4,
 "nbformat_minor": 2
}
